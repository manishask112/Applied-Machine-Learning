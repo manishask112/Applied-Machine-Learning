{
 "cells": [
  {
   "cell_type": "markdown",
   "metadata": {
    "colab_type": "text",
    "id": "R--G1S4LFVR9"
   },
   "source": [
    "CSCI-P556: Applied Machine Learning\n",
    "Fall 2018\n",
    "Assignment #2\n",
    "---\n",
    "\n"
   ]
  },
  {
   "cell_type": "markdown",
   "metadata": {
    "colab_type": "text",
    "id": "Ooye3d-VGooZ"
   },
   "source": [
    "## Problem 1 (50 points)\n",
    "\n",
    "In this problem you will be working with Bank Marketing Dataset. We encourage your to look at the description and make yourself comfortable with it: https://archive.ics.uci.edu/ml/datasets/bank+marketing\n",
    "\n",
    "Two pairs of training and validation sets have been drawn from this dataset for you to work with, namely: \n",
    " -  `train_1.csv` and `valid_1.csv`\n",
    " -  `train_2.csv`and `valid_2.csv`\n",
    " \n",
    "Finally, we have also provided a `test.csv` which is common for both settings.\n",
    "\n",
    "### Task 0: (3 points)\n",
    "\n",
    "What is the difference between the two sets of train/validation sets? Write your answer here:\n",
    "\n",
    "**Ans:** The major difference between the datasets lie in the distribution of yes's and no's in the Y (target feature). Following are the counts\n",
    "\n",
    "**train 1**\n",
    "\n",
    "no---->3384\n",
    "\n",
    "yes--->3386\n",
    "\n",
    "**valid 1**\n",
    "\n",
    "no--->847\n",
    "\n",
    "yes-->846\n",
    "\n",
    "**train 2**\n",
    "\n",
    "no--->25549\n",
    "\n",
    "yes--->3386\n",
    "\n",
    "**valid 2**\n",
    "\n",
    "no--->6388\n",
    "\n",
    "yes--->846\n",
    "\n",
    "in Train 1 and Valid 2, there is an almost equal split whereas in Train2 and Valid2, there is a large disparity in the number of No's and Yes's with the No's being quite high.\n",
    "Apart from this, there are more number of samples in train2 and valid 2 in comparison with train1 and valid1 respectively."
   ]
  },
  {
   "cell_type": "markdown",
   "metadata": {
    "colab_type": "text",
    "id": "MFKZT4mhJlSK"
   },
   "source": [
    "### Task 1 (Data Preprocessing) (12 points)\n",
    "\n",
    "Before you can train a machine learning model using this dataset, you will have to run a number of preprocessing steps to transform the data into a form which will be acceptable to the model. In this task, you are supposed to carry out the follow steps:\n",
    "\n",
    "1.  Find all features that have continuous numeric values and normalize them in the same way as you did in Assignment 1. List those features here.\n",
    "2. Find all categorical features and process them as was discussed in class. List those features and explain what you did.\n",
    "3. Are there any features which have missing values? (Hint: Missing values aren't always nicely represented and can be misleading sometimes). Find those features and explain how you will handle them.\n",
    "\n"
   ]
  },
  {
   "cell_type": "markdown",
   "metadata": {
    "colab_type": "text",
    "id": "uLoZ67_hPo9I"
   },
   "source": [
    "Write your text-based answers here.\n",
    "\n",
    "**1**.   Age, Balance, Duration,Campaign, Previous,Day and Pdays are continous numerical valus that were normalized.\n",
    "\n",
    "**2**.   Default,Housing,Loan,Matital,Contact,Poutcome,Education,Job and Month are categorical features that were replaced with 1's and 0's if they have only two possible values and one-hot encoding was performed for more than two possible values.\n",
    "\n",
    "**3**.   Pdays have missing values represented as -1. The mean of the available values were taken and all -1's were replaced with it. Later, normalization was done on all values."
   ]
  },
  {
   "cell_type": "code",
   "execution_count": 67,
   "metadata": {
    "colab": {},
    "colab_type": "code",
    "id": "-kxn7ZjCJpJ2"
   },
   "outputs": [],
   "source": [
    "import pandas as pd\n",
    "from sklearn.linear_model import LogisticRegression\n",
    "import   matplotlib.pyplot   as   plt \n",
    "from sklearn.metrics import accuracy_score\n",
    "import numpy as np\n",
    "\n",
    "def data_processsing(data_set):\n",
    "#   Numerical continous values\n",
    "    data_set['age']=(data_set['age']-data_set['age'].mean())/data_set['age'].std() \n",
    "    data_set['balance']=(data_set['balance']-data_set['balance'].mean())/data_set['balance'].std()\n",
    "    #data_set['day']=(data_set['day']-data_set['day'].mean())/data_set['day'].std()\n",
    "    data_set['duration']=(data_set['duration']-data_set['duration'].mean())/data_set['duration'].std()\n",
    "    data_set['campaign']=(data_set['campaign']-data_set['campaign'].mean())/data_set['campaign'].std()\n",
    "    data_set['previous']=(data_set['previous']-data_set['previous'].mean())/data_set['previous'].std()\n",
    "    data_set['day']=(data_set['day']-data_set['day'].mean())/data_set['day'].std()\n",
    "    \n",
    "#   Categorical Values\n",
    "    cat = pd.Categorical(data_set['default'])\n",
    "    data_set['default']=data_set.default.astype(\"category\").cat.codes\n",
    "    cat = pd.Categorical(data_set['housing'])\n",
    "    data_set['housing']=data_set.housing.astype(\"category\").cat.codes\n",
    "    cat = pd.Categorical(data_set['loan'])\n",
    "    data_set['loan']=data_set.loan.astype(\"category\").cat.codes\n",
    "    cat = pd.Categorical(data_set['y'])\n",
    "    data_set['y']=data_set.y.astype(\"category\").cat.codes\n",
    "\n",
    "#   One-hot Encoding\n",
    "    data_set = pd.concat([data_set, pd.get_dummies(data_set['marital'], prefix='marital')], axis=1)\n",
    "    data_set = pd.concat([data_set, pd.get_dummies(data_set['contact'], prefix='contact')], axis=1)\n",
    "    data_set = pd.concat([data_set, pd.get_dummies(data_set['poutcome'], prefix='poutcome')], axis=1)\n",
    "    data_set = pd.concat([data_set, pd.get_dummies(data_set['education'], prefix='education')], axis=1)\n",
    "    data_set = pd.concat([data_set, pd.get_dummies(data_set['job'], prefix='job')], axis=1)\n",
    "    data_set = pd.concat([data_set, pd.get_dummies(data_set['month'], prefix='month')], axis=1)\n",
    "    \n",
    "#   Replacing missing values in pdays\n",
    "    count=0\n",
    "    sum1=0\n",
    "    for i in data_set['pdays']:\n",
    "        if i!=-1:\n",
    "            sum1=sum1+i\n",
    "            count=count+1\n",
    "    avg=float(sum1)/float(count)\n",
    "    data_set.pdays = data_set.pdays.replace({-1:avg})\n",
    "    data_set['pdays']=(data_set['pdays']-data_set['pdays'].mean())/data_set['pdays'].std()\n",
    "    return data_set\n",
    "\n",
    "\n",
    "\n",
    "train1 = pd.read_csv('train_1.csv')\n",
    "valid1 = pd.read_csv('valid_1.csv')\n",
    "train2 = pd.read_csv('train_2.csv')\n",
    "valid2 = pd.read_csv('valid_2.csv')\n",
    "test = pd.read_csv('test.csv')\n",
    "\n",
    "train1=data_processsing(train1)\n",
    "valid1=data_processsing(valid1)\n",
    "train2=data_processsing(train2)\n",
    "valid2=data_processsing(valid2)\n",
    "test=data_processsing(test)"
   ]
  },
  {
   "cell_type": "markdown",
   "metadata": {
    "colab_type": "text",
    "id": "5EaChdKLJjio"
   },
   "source": [
    "### Task 2 (Model $\\mathcal{A}$) (10 points)\n",
    "\n",
    "Train a logistic regression model with $L_2$ regularization on `train_1.csv` after applying the necessary preprocessing steps of Task 1. Use the validation set `valid_1.csv` to choose the best regularization coefficient $\\lambda$. Plot a curve with regularization coefficient in the X axis and the validation accuracy on the Y axis."
   ]
  },
  {
   "cell_type": "code",
   "execution_count": 68,
   "metadata": {
    "colab": {},
    "colab_type": "code",
    "id": "aQGJ10L-KhZh"
   },
   "outputs": [
    {
     "name": "stdout",
     "output_type": "stream",
     "text": [
      "Lambda 1.25\n",
      "Accuracy of validation set for this lambda 0.8163024217365623\n",
      "Lambda 1.3\n",
      "Accuracy of validation set for this lambda 0.8168930891907856\n",
      "Lambda 1.35\n",
      "Accuracy of validation set for this lambda 0.8168930891907856\n",
      "Lambda 1.4\n",
      "Accuracy of validation set for this lambda 0.8168930891907856\n",
      "Lambda 1.45\n",
      "Accuracy of validation set for this lambda 0.8168930891907856\n",
      "Lambda 1.5\n",
      "Accuracy of validation set for this lambda 0.8168930891907856\n",
      "Lambda 1.55\n",
      "Accuracy of validation set for this lambda 0.8163024217365623\n",
      "Lambda 1.6\n",
      "Accuracy of validation set for this lambda 0.8163024217365623\n",
      "\n",
      "\n",
      "For best lambda= 1.5 :\n",
      "Accuracy of Train Set 0.8327670261486187\n",
      "Accuracy of Validation Set 0.8163024217365623\n",
      "Accuracy on Test Set:  0.7601459692579896\n"
     ]
    },
    {
     "data": {
      "image/png": "[encoded data removed]",
      "text/plain": [
       "<Figure size 432x288 with 1 Axes>"
      ]
     },
     "metadata": {
      "needs_background": "light"
     },
     "output_type": "display_data"
    }
   ],
   "source": [
    "col=['age','job_admin.','job_blue-collar','job_services','job_unemployed','job_technician','job_management','job_unknown','job_housemaid','job_entrepreneur','job_retired','job_self-employed','job_student','default','balance','housing','loan','duration','campaign','pdays','previous','poutcome_failure','poutcome_other','poutcome_success','poutcome_unknown','marital_divorced','marital_married','marital_single','education_primary','education_secondary','education_tertiary','education_unknown','contact_cellular','contact_telephone','contact_unknown','day','month_apr','month_aug','month_dec','month_feb','month_jan','month_jul','month_jun','month_mar','month_may','month_nov','month_oct','month_sep']\n",
    "X_train=train1[col] \n",
    "y_train=train1['y']\n",
    "X_valid=valid1[col]\n",
    "y_valid=valid1['y']\n",
    "X_test=test[col]\n",
    "y_test=test['y']\n",
    "\n",
    "lmb = [1.25,1.3,1.35,1.40,1.45,1.50,1.55,1.6]\n",
    "validation_accuracy=[]\n",
    "most_accuracy=0\n",
    "\n",
    "#To find optimal lambda\n",
    "for c in lmb:\n",
    "    lr_train = LogisticRegression(penalty='l2', C=1/float(c), solver='liblinear')\n",
    "    lr_train.fit(X_train, y_train)\n",
    "    accuracy=lr_train.score(X_valid, y_valid)\n",
    "    validation_accuracy.append(accuracy)\n",
    "    print(\"Lambda\", c)\n",
    "    print(\"Accuracy of validation set for this lambda\", accuracy)\n",
    "    if accuracy>=most_accuracy:\n",
    "        most_accuracy=accuracy\n",
    "        final_lmb=c\n",
    "\n",
    "\n",
    "#Finding accuracy for train and test sets\n",
    "lr_test = LogisticRegression(penalty='l2', C=1/float(final_lmb), solver='liblinear')\n",
    "lr_test.fit(X_train, y_train)\n",
    "accuracy_train=lr_test.score(X_train, y_train)\n",
    "accuracy_test=lr_test.score(X_test, y_test)\n",
    " \n",
    "print(\"\\n\\nFor best lambda= \"+str(final_lmb)+\" :\")\n",
    "print(\"Accuracy of Train Set\", accuracy_train)\n",
    "print(\"Accuracy of Validation Set\",accuracy) \n",
    "print(\"Accuracy on Test Set: \",accuracy_test)   \n",
    "\n",
    "plt.plot(lmb,validation_accuracy)\n",
    "plt.xlabel('Regularization Coeffecients')\n",
    "plt.ylabel('Validation Accuracy')\n",
    "plt.show()"
   ]
  },
  {
   "cell_type": "markdown",
   "metadata": {
    "colab_type": "text",
    "id": "c0UEYv92KnvQ"
   },
   "source": [
    "### Task 3 (Model $\\mathcal{B}$) (5 points)\n",
    "Train a logistic regression model with $L_2$ regularization on `train_2.csv` after applying the necessary preprocessing steps of Task 1. Use the validation set `valid_2.csv` to choose the best regularization coefficient $\\lambda$. Plot a curve with regularization coefficient in the X axis and the validation accuracy on the Y axis."
   ]
  },
  {
   "cell_type": "code",
   "execution_count": 69,
   "metadata": {
    "colab": {},
    "colab_type": "code",
    "id": "izeiBcCTLcM4"
   },
   "outputs": [
    {
     "name": "stdout",
     "output_type": "stream",
     "text": [
      "Lambda 0.1\n",
      "Accuracy of validation set for this lambda 0.900331766657451\n",
      "Lambda 0.2\n",
      "Accuracy of validation set for this lambda 0.900331766657451\n",
      "Lambda 0.3\n",
      "Accuracy of validation set for this lambda 0.900331766657451\n",
      "Lambda 0.4\n",
      "Accuracy of validation set for this lambda 0.900331766657451\n",
      "Lambda 0.5\n",
      "Accuracy of validation set for this lambda 0.9004700027647221\n",
      "Lambda 0.6\n",
      "Accuracy of validation set for this lambda 0.9004700027647221\n",
      "Lambda 0.7\n",
      "Accuracy of validation set for this lambda 0.9004700027647221\n",
      "Lambda 0.8\n",
      "Accuracy of validation set for this lambda 0.900331766657451\n",
      "Lambda 0.9\n",
      "Accuracy of validation set for this lambda 0.900331766657451\n",
      "Lambda 1\n",
      "Accuracy of validation set for this lambda 0.900331766657451\n",
      "\n",
      "\n",
      "For best lambda= 0.7 :\n",
      "Accuracy on Train Set 0.9023985622451096\n",
      "Accuracy on Validation Set: 0.900331766657451\n",
      "Accuracy on Test Set:  0.9018024991706293\n"
     ]
    },
    {
     "data": {
      "image/png": "[encoded data removed]",
      "text/plain": [
       "<Figure size 432x288 with 1 Axes>"
      ]
     },
     "metadata": {
      "needs_background": "light"
     },
     "output_type": "display_data"
    }
   ],
   "source": [
    "X_train=train2[col]\n",
    "y_train=train2['y']\n",
    "X_valid=valid2[col]\n",
    "y_valid=valid2['y']\n",
    "most_accuracy=0\n",
    "lmb=[0.1,0.20,0.3,0.4,0.5,0.6,0.7,0.8,0.9,1]\n",
    "validation_accuracy=[]\n",
    "\n",
    "#To find optimal lambda\n",
    "for c in lmb:\n",
    "    clf = LogisticRegression(penalty='l2', C=1/float(c),solver='liblinear')\n",
    "    clf.fit(X_train, y_train)\n",
    "    #print('Coefficients: ', clf.coef_)\n",
    "    accuracy=clf.score(X_valid, y_valid)\n",
    "    validation_accuracy.append(accuracy)\n",
    "    print(\"Lambda\", c)\n",
    "    print(\"Accuracy of validation set for this lambda\", accuracy)\n",
    "    if accuracy>=most_accuracy:\n",
    "        most_accuracy=accuracy\n",
    "        final_lmb=c\n",
    "        \n",
    "#Finding accuracy for train and test sets\n",
    "lr_test = LogisticRegression(penalty='l2', C=1/float(final_lmb), solver='liblinear')\n",
    "lr_test.fit(X_train, y_train)\n",
    "accuracy_train=lr_test.score(X_train, y_train)\n",
    "accuracy_test=lr_test.score(X_test, y_test)    \n",
    "\n",
    "print(\"\\n\\nFor best lambda= \"+str(final_lmb)+\" :\")\n",
    "print(\"Accuracy on Train Set\", accuracy_train)\n",
    "print(\"Accuracy on Validation Set:\", accuracy)\n",
    "print(\"Accuracy on Test Set: \",accuracy_test)\n",
    "\n",
    "plt.plot(lmb,validation_accuracy)\n",
    "plt.xlabel('Regularization Coeffecients')\n",
    "plt.ylabel('Validation Accuracy')\n",
    "plt.show()"
   ]
  },
  {
   "cell_type": "markdown",
   "metadata": {
    "colab_type": "text",
    "id": "8KzsVhHPLd3P"
   },
   "source": [
    "### Task 4 (Model $\\mathcal{C}$) (10 points)\n",
    "\n",
    "As you have seen in class, due to the specific (and smart) choice of the loss function, a logistic regression classifier happens to predict the posterioir probability $p(y|\\mathbf{x})$ for any given sample. It then classifies the samples with $p(y|\\mathbf{x}) > 0.5$ as belonging to class $1$ and the rest as belonging to class $0$. Instead, for a fixed threshold of $0.5$, let us consider a dynamic threshold of $\\theta$ which can be chosen after a model has been trained.\n",
    "\n",
    "$$\n",
    "\\ y=\n",
    "\\begin{cases}\n",
    "1 \\text{ if } p(y|\\mathbf{x}) \\geq \\theta \\\\\n",
    "\\\\\n",
    "0 \\text{ if } p(y|\\mathbf{x}) < \\theta \\\\\n",
    "\\end{cases}\n",
    "$$\n",
    "\n",
    "for $0 \\leq \\theta \\leq 1$.\n",
    "\n",
    "Train a logistic regression model with $L_2$ regularization on `train_2.csv` after applying the necessary preprocessing steps of Task 1. Use the validation set `valid_2.csv` to choose the best combination of regularization coefficient $\\lambda$ and the threshold $\\theta$. The best coefficients has to be selected by you after trying out at least five, non-consecutive values. Visualize all these runs.\n",
    "\n",
    "**Hint**: Look at the documentation of Logistic Regression in sci-kit learn to come up with a plan to implement this."
   ]
  },
  {
   "cell_type": "code",
   "execution_count": 70,
   "metadata": {
    "colab": {},
    "colab_type": "code",
    "id": "zJRVTjjrSTRm"
   },
   "outputs": [
    {
     "name": "stdout",
     "output_type": "stream",
     "text": [
      "Threshold=  0.1\n",
      "Accuracy of validation set for this threshold= 0.8871993364666851\n",
      "Threshold=  0.2\n",
      "Accuracy of validation set for this threshold= 0.8928670168648051\n",
      "Threshold=  0.3\n",
      "Accuracy of validation set for this threshold= 0.8963229195465856\n",
      "Threshold=  0.4\n",
      "Accuracy of validation set for this threshold= 0.8992258777992812\n",
      "Threshold=  0.5\n",
      "Accuracy of validation set for this threshold= 0.9004700027647221\n",
      "Threshold=  0.6\n",
      "Accuracy of validation set for this threshold= 0.9032347249101466\n",
      "Threshold=  0.7\n",
      "Accuracy of validation set for this threshold= 0.9012994194083495\n",
      "\n",
      "\n",
      "For best threshold= 0.6 :\n",
      "Accuracy on Train Set:  0.9033317204672704\n",
      "Accuracy on Validation Set:  0.9032347249101466\n",
      "Accuracy on Test Set:  0.9043459029083268\n"
     ]
    },
    {
     "data": {
      "image/png": "[encoded data removed]",
      "text/plain": [
       "<Figure size 432x288 with 1 Axes>"
      ]
     },
     "metadata": {
      "needs_background": "light"
     },
     "output_type": "display_data"
    }
   ],
   "source": [
    "p=[0.1,0.2,0.3,0.4,0.5,0.6,0.7]\n",
    "validation_accuracy_threshold=[]\n",
    "most_accurate=0\n",
    "\n",
    "lr_train = LogisticRegression(penalty='l2', C=1/float(final_lmb), solver='liblinear')\n",
    "lr_train.fit(X_train, y_train)\n",
    "\n",
    "#To find optimal threshold\n",
    "for i in p:\n",
    "    y_predicted = pd.DataFrame(lr_train.predict_proba(X_valid))\n",
    "    y_predicted=y_predicted[0]\n",
    "    y_valid_pred=[]\n",
    "    for j in y_predicted:\n",
    "        if (j>=i):\n",
    "            y_valid_pred.append(0) \n",
    "        else:\n",
    "            y_valid_pred.append(1)\n",
    "    accuracy = accuracy_score(y_valid,y_valid_pred)\n",
    "    print(\"Threshold= \",i)\n",
    "    print(\"Accuracy of validation set for this threshold=\",accuracy)\n",
    "    validation_accuracy_threshold.append(accuracy)\n",
    "    if accuracy >= most_accurate:\n",
    "        most_accurate = accuracy\n",
    "        final_p=i \n",
    "      \n",
    "#Accuracies for train and test\n",
    "y_test_pred=np.where(lr_train.predict_proba(X_test)>final_p, 1,0)\n",
    "y_test_pred_final=[]\n",
    "for i in range(0,len(y_test_pred)):\n",
    "    if y_test_pred[i][0]==1:\n",
    "        y_test_pred_final.append(0)\n",
    "    else:\n",
    "        y_test_pred_final.append(1)\n",
    "accuracy = accuracy_score(y_test,y_test_pred_final)\n",
    "\n",
    "    \n",
    "y_test_pred=np.where(lr_train.predict_proba(X_train)>final_p, 1,0)\n",
    "y_test_pred_final=[]\n",
    "for i in range(0,len(y_test_pred)):\n",
    "    if y_test_pred[i][0]==1:\n",
    "        y_test_pred_final.append(0)\n",
    "    else:\n",
    "        y_test_pred_final.append(1)\n",
    "accuracy_train = accuracy_score(y_train,y_test_pred_final)\n",
    "\n",
    "print(\"\\n\\nFor best threshold= \"+str(final_p)+\" :\")\n",
    "print(\"Accuracy on Train Set: \",accuracy_train)\n",
    "print(\"Accuracy on Validation Set: \", most_accurate) \n",
    "print(\"Accuracy on Test Set: \",accuracy)\n",
    "    \n",
    "plt.plot(p,validation_accuracy_threshold)\n",
    "plt.xlabel('Threshold')\n",
    "plt.ylabel('Validation Accuracy')\n",
    "plt.show()"
   ]
  },
  {
   "cell_type": "markdown",
   "metadata": {
    "colab_type": "text",
    "id": "cTa2tMCPQmCV"
   },
   "source": [
    "### Task 5 (Report and Conclusion) (10 points)\n",
    "\n",
    "1.  Give a detailed report on the performance (that is, accuracy) of Models $\\mathcal{A}$, $\\mathcal{B}$ and $\\mathcal{C}$ on the respective training sets, the validation sets and finally the test. Explain any intuition you might have on what might be happening in each of the cases. Please avoid writing unnecessary details which are not pertinent.\n",
    "2.  Do you think accuracy, the metric which you have used to find the best hyperparameter in all the above tasks, a good metric in this scenario? Explain your choice.\n",
    "\n",
    "**Answers**\n",
    "\n",
    "**1**.The best performance is for model C, then model B and finally model A. This can be explained when we take a look at the test set. The number of no's and yes's are as below:\n",
    "\n",
    "no--->7985\n",
    "\n",
    "yes--->1058\n",
    "\n",
    "\n",
    "This is very similar to the distribution of no's in train 2 and valid 2 which we work on for models B and C. The model is trained to say 'no' more often than not. Since the test also has more number of no's, the accuracy obtained will be high but is misleading because the yes's will be predicted as no's as well but since the number of yes's are much lesser, it will not have a huge impact on the accuracy. \n",
    "\n",
    "Model A however is trained on train 1 which has an almost even split in the number of yes and no's. And since test set has an imbalanced target column, the accuracy is lowest out of all three cases.\n",
    "\n",
    "**2**.For the results we can conclude that accuracy alone may be misleading. We will also have to observe the target set trend. If the target column in test set was evenly distributed. model A's accuracywould have been the best out of the three.\n",
    "\n",
    "Being a binary classification model, we can use F1-score metric to judge the three models."
   ]
  },
  {
   "cell_type": "markdown",
   "metadata": {
    "colab_type": "text",
    "id": "3b62zDpk-O8v"
   },
   "source": [
    "## Problem 2 (50 points)\n",
    "\n",
    "Consider a regression problem in which the input variable $x$ has only one feature and the target variable $y$ is generated from the input variable $x$ by a polynomial $f(x)$. The function $f$ is such that $$f(x) = \\sum_{i=0}^d w_ix^i$$ Please note that a given polynomial function can be completely described by the vector of coefficients $\\mathbf{w}$.\n",
    "\n",
    "### Task 1 (5 points)\n",
    "\n",
    "Write a function in python which can take the degree of polynomial function as input. The code to generate vector coefficeints $\\mathbf{w}$ using this input is already provided. Plot the resulting function for $x \\in (-low, high)$. The function should be plot "
   ]
  },
  {
   "cell_type": "code",
   "execution_count": 71,
   "metadata": {
    "colab": {},
    "colab_type": "code",
    "id": "ivzCo28P_SFW",
    "scrolled": true
   },
   "outputs": [
    {
     "data": {
      "image/png": "[encoded data removed]",
      "text/plain": [
       "<Figure size 432x288 with 1 Axes>"
      ]
     },
     "metadata": {
      "needs_background": "light"
     },
     "output_type": "display_data"
    }
   ],
   "source": [
    "import numpy as np\n",
    "from scipy.special import legendre\n",
    "import matplotlib.pyplot as plt\n",
    "from sklearn.preprocessing import PolynomialFeatures\n",
    "from sklearn import linear_model\n",
    "from sklearn.metrics import mean_squared_error\n",
    "import pandas as pd\n",
    "import tabulate\n",
    "\n",
    "def get_coefficients(degree):\n",
    "    \"\"\"\n",
    "    The coefficients returned are in the order w_0, w_1, ... , w_{degree}\n",
    "    \"\"\"\n",
    "    return legendre(degree).coefficients[::-1]\n",
    "\n",
    "def visualize_function(degree, low, high):\n",
    "    w = get_coefficients(degree)\n",
    "    X=np.sort(np.random.uniform(float(low), float(high), size=100))\n",
    "    Y_list=[]\n",
    "    for j in X:\n",
    "        fofx=w[0]\n",
    "        d=1\n",
    "        for i in range(1,len(w)):\n",
    "            fofx=fofx+((j**d)*w[i]) \n",
    "            d=d+1 \n",
    "        Y_list.append(fofx) \n",
    "    \n",
    "    df=pd.DataFrame({'X':X,'FOFX':Y_list})\n",
    "    plt.plot('X','FOFX',data=df,markersize=6,linewidth=1)\n",
    "    plt.xlabel('X')\n",
    "    plt.ylabel('f(x)')\n",
    "    \n",
    "    return(X,Y_list)\n",
    "\n",
    "## TEST CASES (The following lines should plot a function)\n",
    "visualize_function(3, -1, 1)\n",
    "visualize_function(4, -1, 1)\n",
    "visualize_function(6, -1, 1)\n",
    "plt.show()  "
   ]
  },
  {
   "cell_type": "markdown",
   "metadata": {
    "colab_type": "text",
    "id": "z8Mm1YGNBH5u"
   },
   "source": [
    "### Task 2 (5 points)\n",
    "\n",
    "Write a function in python that randomly generates a dataset (training data + test data). The function should take the degree of target polynomial as input along with the number of points that should be generated for both the training and the test sets. The polynomial will be represented by the vector of coefficients. The code to calculate these coefficients has been provided. The function should also add random normal noise to the target -- i.e. the noise should be drawn from a normal distribution with mean $\\mu=0$ and standard deviation = $\\sigma^2$. Thus: \n",
    "$$y=\\sum_{i=0}^d w_ix^i + \\mathcal{N}(0, \\sigma^2)$$\n",
    "\n"
   ]
  },
  {
   "cell_type": "code",
   "execution_count": 72,
   "metadata": {
    "colab": {},
    "colab_type": "code",
    "id": "ZZ1zxLPvCyDt"
   },
   "outputs": [],
   "source": [
    "def generate_dataset(degree, n_train, n_test, sigma):\n",
    "    \"\"\"\n",
    "    - n_train - Number of training samples\n",
    "    - n_test - Number of test samples\n",
    "    - X_train is an array of size (n_train $\\times$ 1)\n",
    "    - y_train is an array of size (n_train $\\times$ 1)\n",
    "    - X_test is an array of size (n_test $\\times$ 1)\n",
    "    - y_test is an array of size (n_test $\\times$ 1)\n",
    "    \"\"\"\n",
    "    y_train=[]\n",
    "    w = get_coefficients(degree)\n",
    "    X_train=np.sort(np.random.uniform(float(-1), float(1), size=n_train))\n",
    "    for j in range (0,len(X_train)):\n",
    "        fofx=w[0]\n",
    "        d=1\n",
    "        for i in range(1,len(w)):\n",
    "            fofx=fofx+((X_train[j]**d)*w[i]) \n",
    "            d=d+1   \n",
    "        \n",
    "        fofx=fofx+np.random.normal(loc=0.0, scale=sigma)\n",
    "        y_train.append(fofx)\n",
    "        \n",
    "    y_test=[]\n",
    "    X_test=np.sort(np.random.uniform(float(-1), float(1), size=n_test))\n",
    "    for j in range (0,len(X_test)):\n",
    "        fofx=w[0]\n",
    "        d=1\n",
    "        for i in range(1,len(w)):\n",
    "            fofx=fofx+((X_test[j]**d)*w[i]) \n",
    "            d=d+1 \n",
    "        fofx=fofx+np.random.normal(loc=0.0, scale=sigma)\n",
    "        y_test.append(fofx)\n",
    "    \n",
    "    return X_train, y_train, X_test, y_test"
   ]
  },
  {
   "cell_type": "markdown",
   "metadata": {
    "colab_type": "text",
    "id": "et9gTUzy_Sn9"
   },
   "source": [
    "### Task 3 (20 points)\n",
    "\n",
    "1.   Use the function written in Task 2 to generate a dataset of degree $10$, with $20$ samples each in the training and test sets. The standard deviation of the noise should be $0.2$.\n",
    "2.   Plot the generated points of the train set over the function. Make use the function you wrote in Task 1 to do so. The resultant plot should not only contain the function in blue color but also the generated points in the train set in red color.\n",
    "3.   Fit two linear regressions models: $\\mathcal{A}$ and $\\mathcal{B}$ on the given training data. Model $\\mathcal{A}$ should be quadratic and Model $\\mathcal{B}$ should be of degree $10$. How would you create such models?\n",
    "4. Calculate the training error and testing error on both these models and report them nicely in a table.\n",
    "5. Explain the results:\n",
    "\n",
    " **- Are the results as expected or surprising? Explain your stance.**\n",
    " \n",
    "   **Ans**.Since the degree of the data sets are 10, one would expect the error for degree 10 polynomial regression model to be much lesser than that of degree 2. However, the results showed that the error across train and data sets for both 2 and 10 degrees do not vary much.\n",
    " \n",
    " **- Give a detailed explanation of why this happens.**\n",
    " \n",
    "   **Ans**.This may be due to the fact that noise has been added to the data set. The data points are scattered around  function curve because of noise. To confirm this, I generated another data set for same degrees but this time with no noise. This is depicted below. This time, the points were fitted well on the curve. And the error for degree 10 polynomial model was much much lesser. From this we can conclude that when noise is added, and here, it is added to every sample, it can affect the accuracy.\n",
    " \n",
    " **Hint**: You are free (in fact encouraged) to design new experiments under the same paradigm to understand what is happening. You can buttress your explanation with any plots which you might generate from such new experiments.\n",
    "\n",
    " \n",
    "Note: _There is no preference over the size of the answer but please note that you shouldn't write anything that is not pertinent. While being terse, your answer should clearly convey the intuition. Also, use logical number code/text cells---i.e. every subquestion in a given task which can be considered a logical unit should be present in one cell. Do not make one cell unnecessarily long by putting multiple answers in it or split a given answer over multiple cells. Use your best judgement."
   ]
  },
  {
   "cell_type": "code",
   "execution_count": 74,
   "metadata": {},
   "outputs": [
    {
     "name": "stdout",
     "output_type": "stream",
     "text": [
      "PLOT AND ERROR VALUES FOR DATA WITH NOISE\n"
     ]
    },
    {
     "data": {
      "image/png": "[encoded data removed]",
      "text/plain": [
       "<Figure size 432x288 with 1 Axes>"
      ]
     },
     "metadata": {
      "needs_background": "light"
     },
     "output_type": "display_data"
    },
    {
     "name": "stdout",
     "output_type": "stream",
     "text": [
      "------------------------------------------\n",
      "Data Set  Degree    Error     \n",
      "------------------------------------------\n",
      "Train     2         0.25360108150581984\n",
      "Test      2         0.3678639684398232\n",
      "Train     10        0.10473661982914942\n",
      "Test      10        0.28384998952297014\n",
      "\n",
      "\n",
      "PLOT AND ERROR VALUES FOR DATA WITH NO NOISE\n"
     ]
    },
    {
     "data": {
      "image/png": "[encoded data removed]",
      "text/plain": [
       "<Figure size 432x288 with 1 Axes>"
      ]
     },
     "metadata": {
      "needs_background": "light"
     },
     "output_type": "display_data"
    },
    {
     "name": "stdout",
     "output_type": "stream",
     "text": [
      "------------------------------------------\n",
      "Data Set  Degree    Error     \n",
      "------------------------------------------\n",
      "Train     2         0.1673962339756037\n",
      "Test      2         0.19499207876969654\n",
      "Train     10        3.0130758008190834e-14\n",
      "Test      10        4.423589879415941e-14\n"
     ]
    }
   ],
   "source": [
    "def polynomial_regression(d,Xtr,ytr,Xte,yte):  \n",
    "    Xtr=np.asarray(Xtr)\n",
    "    ytr=np.asarray(ytr)\n",
    "    Xtr = Xtr[:, np.newaxis]\n",
    "    ytr = ytr[:, np.newaxis]\n",
    "    \n",
    "    Xte=np.asarray(Xte)\n",
    "    yte=np.asarray(yte)\n",
    "    Xte = Xte[:, np.newaxis]\n",
    "    yte = yte[:, np.newaxis]\n",
    "    \n",
    "    polynomial_regression = PolynomialFeatures(degree=d)\n",
    "    Xtr_poly = polynomial_regression.fit_transform(Xtr)\n",
    "    clf = linear_model.LinearRegression()\n",
    "    clf.fit(Xtr_poly, ytr)\n",
    "    y_predict=clf.predict(Xtr_poly)  \n",
    "    rmse_train = np.sqrt(mean_squared_error(ytr,y_predict))\n",
    "\n",
    "    Xte_poly = polynomial_regression.fit_transform(Xte)\n",
    "    y_predict=clf.predict(Xte_poly)\n",
    "    rmse_test = np.sqrt(mean_squared_error(yte,y_predict))\n",
    "\n",
    "    return(rmse_train,rmse_test)\n",
    "\n",
    "\n",
    "(X_train, y_train, X_test, y_test)=generate_dataset(10, 20, 20, 0.2)\n",
    "plt.plot(X_train,y_train,'ro')\n",
    "visualize_function(10, -1, 1)\n",
    "\n",
    "print(\"PLOT AND ERROR VALUES FOR DATA WITH NOISE\")\n",
    "plt.show()\n",
    "\n",
    "#Fitting Model\n",
    "(rmse_train_1,rmse_test_1)=polynomial_regression(2,X_train,y_train,X_test, y_test)\n",
    "(rmse_train_2,rmse_test_2)=polynomial_regression(10,X_train,y_train,X_test,y_test)\n",
    "\n",
    "#Printing Table\n",
    "table=[['Data Set','Degree','Error']]\n",
    "table.append(['Train',2,rmse_train_1])\n",
    "table.append(['Test',2,rmse_test_1])\n",
    "table.append(['Train',10,rmse_train_2])\n",
    "table.append(['Test',10,rmse_test_2])\n",
    "dash='-'*42\n",
    "for i in range(len(table)):\n",
    "    if i == 0:\n",
    "      print(dash)\n",
    "      print('{: <10}{: <10}{: <10}'.format(table[i][0],table[i][1],table[i][2]))\n",
    "      print(dash)\n",
    "    else:\n",
    "      print('{: <10}{: <10}{: <10}'.format(table[i][0],table[i][1],table[i][2]))\n",
    "    \n",
    "print(\"\\n\\nPLOT AND ERROR VALUES FOR DATA WITH NO NOISE\")\n",
    "(X_train, y_train, X_test, y_test)=generate_dataset(10, 20, 20, 0.0)\n",
    "plt.plot(X_train,y_train,'ro')\n",
    "visualize_function(10, -1, 1)\n",
    "plt.show()\n",
    "(rmse_train_1,rmse_test_1)=polynomial_regression(2,X_train,y_train,X_test, y_test)\n",
    "(rmse_train_2,rmse_test_2)=polynomial_regression(10,X_train,y_train,X_test,y_test)\n",
    "\n",
    "table=[['Data Set','Degree','Error']]\n",
    "table.append(['Train',2,rmse_train_1])\n",
    "table.append(['Test',2,rmse_test_1])\n",
    "table.append(['Train',10,rmse_train_2])\n",
    "table.append(['Test',10,rmse_test_2])\n",
    "dash='-'*42\n",
    "for i in range(len(table)):\n",
    "    if i == 0:\n",
    "      print(dash)\n",
    "      print('{: <10}{: <10}{: <10}'.format(table[i][0],table[i][1],table[i][2]))\n",
    "      print(dash)\n",
    "    else:\n",
    "      print('{: <10}{: <10}{: <10}'.format(table[i][0],table[i][1],table[i][2]))    "
   ]
  },
  {
   "cell_type": "markdown",
   "metadata": {
    "colab_type": "text",
    "id": "APUqEUWUGmXo"
   },
   "source": [
    "### Task 4 (20 points)\n",
    "\n",
    "1.  Use the function written in Task 2 to generate a dataset of degree 45, with 20 samples each in the training and test sets. There should be no noise in the samples.\n",
    "2.  Repeat steps 2 to 4 from Task 3 for this dataset.\n",
    "**3.  This target doesn't have noise like the previous one. Does this make the result surprising? Explain your stance. Also give a detailed explanation of why this happens.**\n",
    "\n",
    "\n",
    "**Ans**.It is surprising at first glance when we observe that despite having no noise, the error here is higher than the previous question which was noisy. However, when we have a closer look at the the dataset and see that it is a 45 degree dataset but the linear regression model is of only degrees 2 or 10 whh led me o believe it to be a serious case of underfitting. But, upon further observation I saw a large difference in error between train and test data for polynomial of degree 10. A sample value that was obtained is shown below.\n",
    "   \n",
    "Train     15.656004114455998\n",
    "\n",
    "\n",
    "Test      1389.0605227341268\n",
    "\n",
    "\n",
    "A large difference in rmse means that we are over-fitting the model or a polynomial of degree 10.\n",
    "\n",
    "**Hint**: You are free (in fact encouraged) to design new experiements under the same paradigm to understand what is happening. You can buttress your explanation with any plots which you might generate from such new experiments."
   ]
  },
  {
   "cell_type": "code",
   "execution_count": 60,
   "metadata": {
    "scrolled": true
   },
   "outputs": [
    {
     "data": {
      "image/png": "[encoded data removed]",
      "text/plain": [
       "<Figure size 432x288 with 1 Axes>"
      ]
     },
     "metadata": {
      "needs_background": "light"
     },
     "output_type": "display_data"
    },
    {
     "name": "stdout",
     "output_type": "stream",
     "text": [
      "------------------------------------------\n",
      "Data Set  Degree    Error     \n",
      "------------------------------------------\n",
      "Train     2         11546.330845893019\n",
      "Test      2         24643.74990697611\n",
      "Train     10        308.44926070723193\n",
      "Test      10        4942.197598255342\n"
     ]
    }
   ],
   "source": [
    "(X_train, y_train, X_test, y_test)=generate_dataset(45, 20, 20, 0.0)\n",
    "plt.plot(X_train,y_train,'ro')\n",
    "visualize_function(45, -1, 1)\n",
    "plt.show()\n",
    "\n",
    "(rmse_train_1,rmse_test_1)=polynomial_regression(2,X_train,y_train,X_test, y_test)\n",
    "(rmse_train_2,rmse_test_2)=polynomial_regression(10,X_train,y_train,X_test, y_test)\n",
    "\n",
    "table=[['Data Set','Degree','Error']]\n",
    "table.append(['Train',2,rmse_train_1])\n",
    "table.append(['Test',2,rmse_test_1])\n",
    "table.append(['Train',10,rmse_train_2])\n",
    "table.append(['Test',10,rmse_test_2])\n",
    "for i in range(len(table)):\n",
    "    if i == 0:\n",
    "      print(dash)\n",
    "      print('{: <10}{: <10}{: <10}'.format(table[i][0],table[i][1],table[i][2]))\n",
    "      print(dash)\n",
    "    else:\n",
    "      print('{: <10}{: <10}{: <10}'.format(table[i][0],table[i][1],table[i][2]))"
   ]
  },
  {
   "cell_type": "code",
   "execution_count": null,
   "metadata": {},
   "outputs": [],
   "source": []
  }
 ],
 "metadata": {
  "colab": {
   "collapsed_sections": [],
   "name": "Assignment2.ipynb",
   "provenance": []
  },
  "kernel_info": {
   "name": "python3"
  },
  "kernelspec": {
   "display_name": "Python 3",
   "language": "python",
   "name": "python3"
  },
  "language_info": {
   "codemirror_mode": {
    "name": "ipython",
    "version": 3
   },
   "file_extension": ".py",
   "mimetype": "text/x-python",
   "name": "python",
   "nbconvert_exporter": "python",
   "pygments_lexer": "ipython3",
   "version": "3.7.3"
  },
  "nteract": {
   "version": "0.15.0"
  }
 },
 "nbformat": 4,
 "nbformat_minor": 1
}
